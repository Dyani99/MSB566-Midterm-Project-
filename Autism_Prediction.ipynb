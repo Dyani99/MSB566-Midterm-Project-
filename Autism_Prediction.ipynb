{
  "nbformat": 4,
  "nbformat_minor": 0,
  "metadata": {
    "colab": {
      "provenance": []
    },
    "kernelspec": {
      "name": "python3",
      "display_name": "Python 3"
    },
    "language_info": {
      "name": "python"
    }
  },
  "cells": [
    {
      "cell_type": "code",
      "execution_count": null,
      "metadata": {
        "id": "xwx5H5lNmE_k"
      },
      "outputs": [],
      "source": [
        "# Import modules\n",
        "import pandas as pd\n",
        "import numpy as np\n",
        "from scipy.io import arff\n",
        "from sklearn.model_selection import train_test_split\n",
        "from sklearn.preprocessing import LabelEncoder, StandardScaler\n",
        "from sklearn.linear_model import LogisticRegression\n",
        "from sklearn.metrics import accuracy_score, classification_report, confusion_matrix, roc_curve, auc\n",
        "import matplotlib.pyplot as plt"
      ]
    },
    {
      "cell_type": "code",
      "source": [
        "# Import and Load Data\n",
        "data, meta = arff.loadarff(\"/content/Autism-Adult-Data.arff\")\n",
        "df_raw = pd.DataFrame(data)\n",
        "print(f\"Rows: {df_raw.shape[0]}, Columns: {df_raw.shape[1]}\")\n",
        "print(df_raw.head(3), \"\\n\")"
      ],
      "metadata": {
        "colab": {
          "base_uri": "https://localhost:8080/"
        },
        "id": "92-0lLd9qyRA",
        "outputId": "0b71ea59-da09-4b1a-ae6f-7de7aaaf0040"
      },
      "execution_count": null,
      "outputs": [
        {
          "output_type": "stream",
          "name": "stdout",
          "text": [
            "Rows: 704, Columns: 21\n",
            "  A1_Score A2_Score A3_Score A4_Score A5_Score A6_Score A7_Score A8_Score  \\\n",
            "0     b'1'     b'1'     b'1'     b'1'     b'0'     b'0'     b'1'     b'1'   \n",
            "1     b'1'     b'1'     b'0'     b'1'     b'0'     b'0'     b'0'     b'1'   \n",
            "2     b'1'     b'1'     b'0'     b'1'     b'1'     b'0'     b'1'     b'1'   \n",
            "\n",
            "  A9_Score A10_Score  ...  gender          ethnicity jundice  austim  \\\n",
            "0     b'0'      b'0'  ...    b'f'  b'White-European'   b'no'   b'no'   \n",
            "1     b'0'      b'1'  ...    b'm'          b'Latino'   b'no'  b'yes'   \n",
            "2     b'1'      b'1'  ...    b'm'          b'Latino'  b'yes'  b'yes'   \n",
            "\n",
            "      contry_of_res used_app_before result        age_desc   relation  \\\n",
            "0  b'United States'           b'no'    6.0  b'18 and more'    b'Self'   \n",
            "1         b'Brazil'           b'no'    5.0  b'18 and more'    b'Self'   \n",
            "2          b'Spain'           b'no'    8.0  b'18 and more'  b'Parent'   \n",
            "\n",
            "  Class/ASD  \n",
            "0     b'NO'  \n",
            "1     b'NO'  \n",
            "2    b'YES'  \n",
            "\n",
            "[3 rows x 21 columns] \n",
            "\n"
          ]
        }
      ]
    },
    {
      "cell_type": "code",
      "source": [
        "# Cleaning and Preprocessing\n",
        "# Decode bytes -> str\n",
        "df = df_raw.applymap(lambda x: x.decode() if isinstance(x, bytes) else x)\n",
        "\n",
        "# Convert A1_Score..A10_Score to integers (0/1)\n",
        "a_cols = [f\"A{i}_Score\" for i in range(1, 11)]\n",
        "for c in a_cols:\n",
        "    df[c] = df[c].astype(str).str.strip().str.lower().map(\n",
        "        {\"1\": 1, \"0\": 0, \"yes\": 1, \"no\": 0}\n",
        "    )\n",
        "\n",
        "# Target column\n",
        "target_col = \"Class/ASD\"\n",
        "df[target_col] = df[target_col].astype(str).str.strip().str.upper()\n",
        "\n",
        "# Drop rows with missing values (simple lecture-style)\n",
        "df = df.dropna()\n",
        "\n",
        "# Separate features/target\n",
        "X = df.drop(columns=[target_col])\n",
        "y = df[target_col]\n",
        "\n",
        "# One-hot encode categoricals (keep numeric as-is)\n",
        "X = pd.get_dummies(X, drop_first=True)\n",
        "\n",
        "# Encode target to 0/1\n",
        "le = LabelEncoder()\n",
        "y_enc = le.fit_transform(y)  # 'NO'->0, 'YES'->1\n",
        "\n",
        "print(\"Feature shape after encoding:\", X.shape)\n",
        "print(\"Example feature columns:\", list(X.columns)[:10], \"...\")\n",
        "print(\"Target classes:\", list(le.classes_), \"\\n\")"
      ],
      "metadata": {
        "colab": {
          "base_uri": "https://localhost:8080/"
        },
        "id": "x5_HYe9FuM0y",
        "outputId": "0dce6636-9768-4553-b21a-7b90d9246ef4"
      },
      "execution_count": null,
      "outputs": [
        {
          "output_type": "stream",
          "name": "stdout",
          "text": [
            "Feature shape after encoding: (702, 98)\n",
            "Example feature columns: ['A1_Score', 'A2_Score', 'A3_Score', 'A4_Score', 'A5_Score', 'A6_Score', 'A7_Score', 'A8_Score', 'A9_Score', 'A10_Score'] ...\n",
            "Target classes: ['NO', 'YES'] \n",
            "\n"
          ]
        },
        {
          "output_type": "stream",
          "name": "stderr",
          "text": [
            "/tmp/ipython-input-988772068.py:3: FutureWarning: DataFrame.applymap has been deprecated. Use DataFrame.map instead.\n",
            "  df = df_raw.applymap(lambda x: x.decode() if isinstance(x, bytes) else x)\n"
          ]
        }
      ]
    },
    {
      "cell_type": "code",
      "source": [
        "# Train / Test Split\n",
        "X_train, X_test, y_train, y_test = train_test_split(\n",
        "    X, y_enc, test_size=0.2, random_state=42, stratify=y_enc\n",
        ")\n",
        "print(\"Train size:\", X_train.shape, \" Test size:\", X_test.shape, \"\\n\")"
      ],
      "metadata": {
        "colab": {
          "base_uri": "https://localhost:8080/"
        },
        "id": "lnupizihvmes",
        "outputId": "3bea62ac-74c1-4fad-e0a5-00c129cc4b09"
      },
      "execution_count": null,
      "outputs": [
        {
          "output_type": "stream",
          "name": "stdout",
          "text": [
            "Train size: (561, 98)  Test size: (141, 98) \n",
            "\n"
          ]
        }
      ]
    },
    {
      "cell_type": "code",
      "source": [
        "# Standardize\n",
        "scaler = StandardScaler(with_mean=False)  # with_mean=False works with sparse matrices from get_dummies\n",
        "X_train_scaled = scaler.fit_transform(X_train)\n",
        "X_test_scaled = scaler.transform(X_test)\n",
        "print(\"Scaling complete.\\n\")"
      ],
      "metadata": {
        "colab": {
          "base_uri": "https://localhost:8080/"
        },
        "id": "ZpFeIkhfwO7N",
        "outputId": "353481d6-eeda-404e-cee5-0f987ef32b02"
      },
      "execution_count": null,
      "outputs": [
        {
          "output_type": "stream",
          "name": "stdout",
          "text": [
            "Scaling complete.\n",
            "\n"
          ]
        }
      ]
    },
    {
      "cell_type": "code",
      "source": [
        "# Model: Logistic Regression\n",
        "model = LogisticRegression(max_iter=2000, random_state=42)\n",
        "model.fit(X_train_scaled, y_train)\n",
        "y_pred = model.predict(X_test_scaled)"
      ],
      "metadata": {
        "id": "eljpo4oQwm4E"
      },
      "execution_count": null,
      "outputs": []
    },
    {
      "cell_type": "code",
      "source": [
        "# Evaluation\n",
        "y_pred = model.predict(X_test_scaled)\n",
        "y_prob = model.predict_proba(X_test_scaled)[:, 1]\n",
        "\n",
        "acc = accuracy_score(y_test, y_pred)\n",
        "print(f\"Accuracy: {acc:.4f}\\n\")\n",
        "print(\"Classification Report:\\n\", classification_report(y_test, y_pred))"
      ],
      "metadata": {
        "colab": {
          "base_uri": "https://localhost:8080/"
        },
        "id": "Eg28mIilxY-U",
        "outputId": "d764e261-cc59-4774-a700-a13bdde28dc0"
      },
      "execution_count": null,
      "outputs": [
        {
          "output_type": "stream",
          "name": "stdout",
          "text": [
            "Accuracy: 0.9645\n",
            "\n",
            "Classification Report:\n",
            "               precision    recall  f1-score   support\n",
            "\n",
            "           0       0.97      0.98      0.98       103\n",
            "           1       0.95      0.92      0.93        38\n",
            "\n",
            "    accuracy                           0.96       141\n",
            "   macro avg       0.96      0.95      0.95       141\n",
            "weighted avg       0.96      0.96      0.96       141\n",
            "\n"
          ]
        }
      ]
    },
    {
      "cell_type": "code",
      "source": [
        "# Confusion Matrix\n",
        "cm = confusion_matrix(y_test, y_pred)\n",
        "fig = plt.figure(figsize=(4.5, 4))\n",
        "plt.imshow(cm, interpolation=\"nearest\")\n",
        "plt.title(\"Confusion Matrix\")\n",
        "plt.colorbar()\n",
        "tick_marks = np.arange(2)\n",
        "plt.xticks(tick_marks, ['Pred 0','Pred 1'])\n",
        "plt.yticks(tick_marks, ['True 0','True 1'])\n",
        "plt.xlabel(\"Predicted label\")\n",
        "plt.ylabel(\"True label\")\n",
        "\n",
        "# Label each cell\n",
        "thresh = cm.max() / 2.0\n",
        "for i in range(cm.shape[0]):\n",
        "    for j in range(cm.shape[1]):\n",
        "        plt.text(j, i, format(cm[i, j], 'd'),\n",
        "                 ha=\"center\", va=\"center\",\n",
        "                 color=\"white\" if cm[i, j] > thresh else \"black\")\n",
        "plt.tight_layout()\n",
        "plt.show()\n",
        "\n",
        "# ROC Curve\n",
        "fpr, tpr, _ = roc_curve(y_test, y_prob)\n",
        "roc_auc = auc(fpr, tpr)\n",
        "plt.figure(figsize=(5, 4))\n",
        "plt.plot(fpr, tpr, label=f\"AUC = {roc_auc:.3f}\")\n",
        "plt.plot([0, 1], [0, 1], linestyle=\"--\")\n",
        "plt.xlabel(\"False Positive Rate\")\n",
        "plt.ylabel(\"True Positive Rate\")\n",
        "plt.title(\"ROC Curve\")\n",
        "plt.legend(loc=\"lower right\")\n",
        "plt.show()"
      ],
      "metadata": {
        "colab": {
          "base_uri": "https://localhost:8080/",
          "height": 781
        },
        "id": "U5OdXF64ycJC",
        "outputId": "eb311745-244e-4493-cf9e-b80de7372a07"
      },
      "execution_count": null,
      "outputs": [
        {
          "output_type": "display_data",
          "data": {
            "text/plain": [
              "<Figure size 450x400 with 2 Axes>"
            ],
            "image/png": "[encoded data removed]"
          },
          "metadata": {}
        },
        {
          "output_type": "display_data",
          "data": {
            "text/plain": [
              "<Figure size 500x400 with 1 Axes>"
            ],
            "image/png": "[encoded data removed]"
          },
          "metadata": {}
        }
      ]
    },
    {
      "cell_type": "code",
      "source": [
        "# Interpretation: Coefficients\n",
        "coefs = pd.Series(model.coef_.ravel(), index=X.columns)\n",
        "coef_top = coefs.reindex(coefs.abs().sort_values(ascending=False).head(15).index)\n",
        "display_df = pd.DataFrame({\"feature\": coef_top.index, \"coef\": coef_top.values, \"abs_coef\": coef_top.abs().values})\n",
        "print(display_df.sort_values(by=\"abs_coef\", ascending=False))"
      ],
      "metadata": {
        "colab": {
          "base_uri": "https://localhost:8080/"
        },
        "id": "KqTF62DAyjrv",
        "outputId": "449c45b4-8695-46c3-854b-e5eeb6f83442"
      },
      "execution_count": null,
      "outputs": [
        {
          "output_type": "stream",
          "name": "stdout",
          "text": [
            "                      feature      coef  abs_coef\n",
            "0                      result  2.184313  2.184313\n",
            "1                    A9_Score  1.375135  1.375135\n",
            "2                    A5_Score  1.326479  1.326479\n",
            "3                    A7_Score  1.322214  1.322214\n",
            "4                    A4_Score  1.221130  1.221130\n",
            "5                    A1_Score  1.134273  1.134273\n",
            "6                    A8_Score  1.053691  1.053691\n",
            "7                    A2_Score  1.022274  1.022274\n",
            "8                   A10_Score  1.018128  1.018128\n",
            "9                    A6_Score  1.004613  1.004613\n",
            "10                   A3_Score  0.994212  0.994212\n",
            "11       contry_of_res_France  0.377578  0.377578\n",
            "12       contry_of_res_Jordan -0.363528  0.363528\n",
            "13  ethnicity_Middle Eastern  -0.352809  0.352809\n",
            "14       contry_of_res_Russia  0.329422  0.329422\n"
          ]
        }
      ]
    }
  ]
}